{
  "nbformat": 4,
  "nbformat_minor": 0,
  "metadata": {
    "colab": {
      "provenance": [],
      "authorship_tag": "ABX9TyOh8tDQcZF752paMoG9bbrP",
      "include_colab_link": true
    },
    "kernelspec": {
      "name": "python3",
      "display_name": "Python 3"
    },
    "language_info": {
      "name": "python"
    }
  },
  "cells": [
    {
      "cell_type": "markdown",
      "metadata": {
        "id": "view-in-github",
        "colab_type": "text"
      },
      "source": [
        "<a href=\"https://colab.research.google.com/github/JackSolano/Topicos-Estadisticas/blob/main/sintitulo.ipynb\" target=\"_parent\"><img src=\"https://colab.research.google.com/assets/colab-badge.svg\" alt=\"Open In Colab\"/></a>"
      ]
    },
    {
      "cell_type": "code",
      "execution_count": 1,
      "metadata": {
        "id": "E6r7VCufgAyZ"
      },
      "outputs": [],
      "source": [
        "import pandas as pd  # Pandas: Manipulación y análisis de datos con estructuras como DataFrame.\n",
        "import numpy as np  # NumPy: Soporte para arrays y operaciones matemáticas de alto rendimiento.\n",
        "import matplotlib.pyplot as plt  # Matplotlib: Visualización de datos, gráficos y figuras.\n",
        "\n",
        "from sklearn.model_selection import train_test_split  # Divide los datos en conjunto de entrenamiento y prueba.\n",
        "from sklearn.preprocessing import StandardScaler  # Estandariza los datos para que tengan media 0 y varianza 1.\n",
        "from sklearn.neural_network import MLPRegressor  # Implementa una red neuronal para tareas de regresión.\n",
        "from sklearn import metrics  # Métricas de evaluación como MSE, MAE, R2, etc.\n",
        "from sklearn.model_selection import GridSearchCV  # Búsqueda de hiperparámetros óptimos mediante validación cruzada.\n"
      ]
    },
    {
      "cell_type": "markdown",
      "source": [],
      "metadata": {
        "id": "s2S3e7-3gXUL"
      }
    }
  ]
}